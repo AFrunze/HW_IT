{
 "cells": [
  {
   "cell_type": "code",
   "execution_count": 2,
   "metadata": {},
   "outputs": [
    {
     "name": "stdout",
     "output_type": "stream",
     "text": [
      "Insert password: ········\n"
     ]
    }
   ],
   "source": [
    "import psycopg2\n",
    "import getpass\n",
    "\n",
    "conn=psycopg2.connect(user='postgres',\n",
    "              database='postgres',\n",
    "              host='localhost',\n",
    "              port='5432',\n",
    "              password=getpass.getpass('Insert password: '))"
   ]
  },
  {
   "cell_type": "code",
   "execution_count": 3,
   "metadata": {},
   "outputs": [
    {
     "name": "stdout",
     "output_type": "stream",
     "text": [
      "{'user': 'postgres', 'dbname': 'postgres', 'host': 'localhost', 'port': '5432', 'tty': '', 'options': '', 'sslmode': 'prefer', 'sslcompression': '0', 'krbsrvname': 'postgres', 'target_session_attrs': 'any'}\n"
     ]
    }
   ],
   "source": [
    "print(conn.get_dsn_parameters())"
   ]
  },
  {
   "cell_type": "code",
   "execution_count": 13,
   "metadata": {},
   "outputs": [
    {
     "name": "stdout",
     "output_type": "stream",
     "text": [
      "(1067752, 'RU000A0JUCX1', 'Московская Биржа ', ' РПС')\n",
      "(853537, 'RU000A0JRTS1', 'Московская Биржа ', ' Основной')\n",
      "(1068784, 'RU000A0JUCX1', 'Московская Биржа ', ' РЕПО')\n",
      "(1071049, 'RU000A0JUCX1', 'ЦБ России ', ' Рынок РЕПО с ЦБ РФ')\n",
      "(1077325, 'RU000A0JUCX1', 'ЦБ России ', ' Ломбардный список')\n",
      "(1099396, 'RU000A0JUCX1', 'НФА ', ' Ценовой центр')\n",
      "(139182, 'RU000A0JQ6N0', 'Московская Биржа ', ' РПС')\n",
      "(1064404, 'RU000A0JRTT9', 'Московская Биржа ', ' Основной')\n",
      "(139236, 'RU000A0JQ6N0', 'Московская Биржа ', ' РЕПО')\n",
      "(149079, 'RU000A0JQ6N0', 'Московская Биржа - РТС ', ' РТС Classica')\n"
     ]
    }
   ],
   "source": [
    "import pandas as pd\n",
    "cursor = conn.cursor()\n",
    "cursor.execute('SELECT * FROM public.listing_task LIMIT 10')\n",
    "for row in cursor:\n",
    "    print(row)    "
   ]
  },
  {
   "cell_type": "code",
   "execution_count": 22,
   "metadata": {},
   "outputs": [
    {
     "data": {
      "text/html": [
       "<div>\n",
       "<style scoped>\n",
       "    .dataframe tbody tr th:only-of-type {\n",
       "        vertical-align: middle;\n",
       "    }\n",
       "\n",
       "    .dataframe tbody tr th {\n",
       "        vertical-align: top;\n",
       "    }\n",
       "\n",
       "    .dataframe thead th {\n",
       "        text-align: right;\n",
       "    }\n",
       "</style>\n",
       "<table border=\"1\" class=\"dataframe\">\n",
       "  <thead>\n",
       "    <tr style=\"text-align: right;\">\n",
       "      <th></th>\n",
       "      <th>ID</th>\n",
       "      <th>ISIN</th>\n",
       "      <th>Platform</th>\n",
       "      <th>Section</th>\n",
       "    </tr>\n",
       "  </thead>\n",
       "  <tbody>\n",
       "    <tr>\n",
       "      <th>0</th>\n",
       "      <td>1067752</td>\n",
       "      <td>RU000A0JUCX1</td>\n",
       "      <td>Московская Биржа</td>\n",
       "      <td>РПС</td>\n",
       "    </tr>\n",
       "    <tr>\n",
       "      <th>1</th>\n",
       "      <td>853537</td>\n",
       "      <td>RU000A0JRTS1</td>\n",
       "      <td>Московская Биржа</td>\n",
       "      <td>Основной</td>\n",
       "    </tr>\n",
       "    <tr>\n",
       "      <th>2</th>\n",
       "      <td>1068784</td>\n",
       "      <td>RU000A0JUCX1</td>\n",
       "      <td>Московская Биржа</td>\n",
       "      <td>РЕПО</td>\n",
       "    </tr>\n",
       "    <tr>\n",
       "      <th>3</th>\n",
       "      <td>1071049</td>\n",
       "      <td>RU000A0JUCX1</td>\n",
       "      <td>ЦБ России</td>\n",
       "      <td>Рынок РЕПО с ЦБ РФ</td>\n",
       "    </tr>\n",
       "    <tr>\n",
       "      <th>4</th>\n",
       "      <td>1077325</td>\n",
       "      <td>RU000A0JUCX1</td>\n",
       "      <td>ЦБ России</td>\n",
       "      <td>Ломбардный список</td>\n",
       "    </tr>\n",
       "    <tr>\n",
       "      <th>5</th>\n",
       "      <td>1099396</td>\n",
       "      <td>RU000A0JUCX1</td>\n",
       "      <td>НФА</td>\n",
       "      <td>Ценовой центр</td>\n",
       "    </tr>\n",
       "    <tr>\n",
       "      <th>6</th>\n",
       "      <td>139182</td>\n",
       "      <td>RU000A0JQ6N0</td>\n",
       "      <td>Московская Биржа</td>\n",
       "      <td>РПС</td>\n",
       "    </tr>\n",
       "    <tr>\n",
       "      <th>7</th>\n",
       "      <td>1064404</td>\n",
       "      <td>RU000A0JRTT9</td>\n",
       "      <td>Московская Биржа</td>\n",
       "      <td>Основной</td>\n",
       "    </tr>\n",
       "    <tr>\n",
       "      <th>8</th>\n",
       "      <td>139236</td>\n",
       "      <td>RU000A0JQ6N0</td>\n",
       "      <td>Московская Биржа</td>\n",
       "      <td>РЕПО</td>\n",
       "    </tr>\n",
       "    <tr>\n",
       "      <th>9</th>\n",
       "      <td>149079</td>\n",
       "      <td>RU000A0JQ6N0</td>\n",
       "      <td>Московская Биржа - РТС</td>\n",
       "      <td>РТС Classica</td>\n",
       "    </tr>\n",
       "  </tbody>\n",
       "</table>\n",
       "</div>"
      ],
      "text/plain": [
       "        ID          ISIN                 Platform              Section\n",
       "0  1067752  RU000A0JUCX1        Московская Биржа                   РПС\n",
       "1   853537  RU000A0JRTS1        Московская Биржа              Основной\n",
       "2  1068784  RU000A0JUCX1        Московская Биржа                  РЕПО\n",
       "3  1071049  RU000A0JUCX1               ЦБ России    Рынок РЕПО с ЦБ РФ\n",
       "4  1077325  RU000A0JUCX1               ЦБ России     Ломбардный список\n",
       "5  1099396  RU000A0JUCX1                     НФА         Ценовой центр\n",
       "6   139182  RU000A0JQ6N0        Московская Биржа                   РПС\n",
       "7  1064404  RU000A0JRTT9        Московская Биржа              Основной\n",
       "8   139236  RU000A0JQ6N0        Московская Биржа                  РЕПО\n",
       "9   149079  RU000A0JQ6N0  Московская Биржа - РТС          РТС Classica"
      ]
     },
     "execution_count": 22,
     "metadata": {},
     "output_type": "execute_result"
    }
   ],
   "source": [
    "df = pd.read_sql(\"SELECT * FROM public.listing_task LIMIT 10\", conn)\n",
    "df"
   ]
  },
  {
   "cell_type": "code",
   "execution_count": null,
   "metadata": {},
   "outputs": [],
   "source": []
  }
 ],
 "metadata": {
  "kernelspec": {
   "display_name": "Python 3",
   "language": "python",
   "name": "python3"
  },
  "language_info": {
   "codemirror_mode": {
    "name": "ipython",
    "version": 3
   },
   "file_extension": ".py",
   "mimetype": "text/x-python",
   "name": "python",
   "nbconvert_exporter": "python",
   "pygments_lexer": "ipython3",
   "version": "3.7.3"
  }
 },
 "nbformat": 4,
 "nbformat_minor": 2
}
